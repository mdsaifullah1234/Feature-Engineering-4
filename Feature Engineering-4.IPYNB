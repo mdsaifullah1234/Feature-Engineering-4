{
 "cells": [
  {
   "cell_type": "markdown",
   "metadata": {},
   "source": [
    "Q1. What is data encoding? How is it useful in data science"
   ]
  },
  {
   "cell_type": "markdown",
   "metadata": {},
   "source": [
    "ANS  =  Data encoding involves converting categorical or textual data into a numerical format that machine learning algorithms can process. It's useful in data science because many machine learning algorithms require numerical input data for training."
   ]
  },
  {
   "cell_type": "markdown",
   "metadata": {},
   "source": [
    "Q2. What is nominal encoding? Provide an example of how you would use it in a real-world scenario."
   ]
  },
  {
   "cell_type": "markdown",
   "metadata": {},
   "source": [
    "Nominal encoding, also known as label encoding, assigns a unique numerical value to each category in a categorical variable. For example, if we have a \"color\" variable with categories \"red,\" \"blue,\" and \"green,\" nominal encoding would assign 0, 1, and 2 to these categories, respectively.\n",
    "\n"
   ]
  },
  {
   "cell_type": "markdown",
   "metadata": {},
   "source": [
    "Q3. In what situations is nominal encoding preferred over one-hot encoding? Provide a practical example."
   ]
  },
  {
   "cell_type": "markdown",
   "metadata": {},
   "source": [
    "Nominal encoding is preferred over one-hot encoding when the categorical variable has a large number of unique categories or when the ordinality of the categories is not significant. For example, when encoding country names in a dataset with hundreds of unique countries, nominal encoding may be more practical than one-hot encoding.\n",
    "\n"
   ]
  },
  {
   "cell_type": "markdown",
   "metadata": {},
   "source": [
    "Q4. Suppose you have a dataset containing categorical data with 5 unique values. Which encoding \n",
    "technique would you use to transform this data into a format suitable for machine learning algorithms? \n",
    "Explain why you made this choice.\n"
   ]
  },
  {
   "cell_type": "markdown",
   "metadata": {},
   "source": [
    " If the categorical data has no inherent ordinal relationship among its categories and has a moderate number of unique values (such as 5), label encoding (nominal encoding) would be a suitable choice. It preserves the information of the categories while transforming them into a format that machine learning algorithms can process."
   ]
  },
  {
   "cell_type": "markdown",
   "metadata": {},
   "source": [
    "Q5. In a machine learning project, you have a dataset with 1000 rows and 5 columns. Two of the columns \n",
    "are categorical, and the remaining three columns are numerical. If you were to use nominal encoding to \n",
    "transform the categorical data, how many new columns would be created? Show your calculations.\n"
   ]
  },
  {
   "cell_type": "markdown",
   "metadata": {},
   "source": [
    " For nominal encoding, each categorical variable would be transformed into a single numerical column, where each unique category is represented by a unique numerical value. So if you have two categorical columns with 5 unique values each, you would create two new columns, resulting in a total of 2 * 5 = 10 new columns."
   ]
  },
  {
   "cell_type": "markdown",
   "metadata": {},
   "source": [
    "Q6. You are working with a dataset containing information about different types of animals, including their \n",
    "species, habitat, and diet. Which encoding technique would you use to transform the categorical data into \n",
    "a format suitable for machine learning algorithms? Justify your answer.\n"
   ]
  },
  {
   "cell_type": "markdown",
   "metadata": {},
   "source": [
    "For the dataset containing information about different types of animals, where the categorical variables like species, habitat, and diet have no intrinsic order, nominal encoding (label encoding) would be appropriate. This technique assigns unique numerical labels to each category, preserving the categorical information while converting it into a format suitable for machine learning algorithms."
   ]
  },
  {
   "cell_type": "markdown",
   "metadata": {},
   "source": [
    "Q7.You are working on a project that involves predicting customer churn for a telecommunications \n",
    "company. You have a dataset with 5 features, including the customer's gender, age, contract type, \n",
    "monthly charges, and tenure. Which encoding technique(s) would you use to transform the categorical \n",
    "data into numerical data? Provide a step-by-step explanation of how you would implement the encoding"
   ]
  },
  {
   "cell_type": "markdown",
   "metadata": {},
   "source": [
    "To transform the categorical data into numerical data for predicting customer churn, we could use nominal encoding for non-ordinal categorical variables like gender and contract type. We would assign unique numerical labels to each category using label encoding. For ordinal categorical variables like contract type, where there may be an inherent order (e.g., month-to-month, one-year, two-year), we could use ordinal encoding. Once encoded, the dataset would be ready for use in machine learning algorithms.\n",
    "\n"
   ]
  }
 ],
 "metadata": {
  "language_info": {
   "name": "python"
  }
 },
 "nbformat": 4,
 "nbformat_minor": 2
}
